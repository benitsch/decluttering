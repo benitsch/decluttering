{
 "cells": [
  {
   "cell_type": "code",
   "execution_count": null,
   "metadata": {},
   "outputs": [],
   "source": [
    "import pandas as pd\n",
    "import spacy\n",
    "import time\n",
    "import re"
   ]
  },
  {
   "cell_type": "code",
   "execution_count": null,
   "metadata": {},
   "outputs": [],
   "source": [
    "#Find camelCase words\n",
    "def camel_case_split(word):\n",
    "    matches = re.finditer('.+?(?:(?<=[a-z])(?=[A-Z])|(?<=[A-Z])(?=[A-Z][a-z])|$)', word)\n",
    "    words = [m.group(0) for m in matches]\n",
    "    splitedWord = ''\n",
    "    if len(words) > 1:\n",
    "        i = 0\n",
    "        for w in words:\n",
    "            if i == 0:\n",
    "                splitedWord = w\n",
    "            else:\n",
    "                splitedWord += ' ' + w\n",
    "            i += 1\n",
    "    else:\n",
    "        splitedWord = words[0]\n",
    "    \n",
    "    print('Word after camelCase split:', splitedWord)\n",
    "    return splitedWord"
   ]
  },
  {
   "cell_type": "code",
   "execution_count": null,
   "metadata": {},
   "outputs": [],
   "source": [
    "#Remove symbols which are defined in \"seps\" from given word\n",
    "def remove_symbol_from_word(word):\n",
    "    seps = [\"#\", \".\", '(', ')', '{', '}', '[', ']', '\\'', '/', '_', '-', '\"', '=']\n",
    "    trimedWord = ''\n",
    "    for sep in seps:\n",
    "        word = word.replace(sep,' ')\n",
    "    \n",
    "    print('Word after symbol remover:', word)\n",
    "    return word"
   ]
  },
  {
   "cell_type": "code",
   "execution_count": null,
   "metadata": {},
   "outputs": [],
   "source": [
    "#Remove single char word (for example: if \"e.g.\" is modified to \"e g\", we can remove then \"e\" and \"g\")\n",
    "def remove_single_char_words(comment):\n",
    "    splitedComment = comment.split()\n",
    "    newComment = ''\n",
    "    idx = 0\n",
    "    for w in splitedComment:\n",
    "        if len(w) == 1:\n",
    "            print('Remove single char:', w)\n",
    "        else:\n",
    "            if idx == 0:\n",
    "                newComment += w\n",
    "            else:\n",
    "                newComment = newComment + ' ' + w\n",
    "        idx += 1\n",
    "    return newComment"
   ]
  },
  {
   "cell_type": "code",
   "execution_count": null,
   "metadata": {},
   "outputs": [],
   "source": [
    "#Remove duplicate white spaces in a sentence\n",
    "def remove_more_than_one_space_in_sentence(comment):\n",
    "    comment = re.sub(' +', ' ', comment)\n",
    "    return comment"
   ]
  },
  {
   "cell_type": "code",
   "execution_count": null,
   "metadata": {},
   "outputs": [],
   "source": [
    "#Write all words in the comment to lower case\n",
    "def all_to_lower_case(comment):\n",
    "    return comment.lower()"
   ]
  },
  {
   "cell_type": "code",
   "execution_count": null,
   "metadata": {},
   "outputs": [],
   "source": [
    "#If a url is given in the comment -> remove it\n",
    "def remove_url_from_comment(word):\n",
    "    return re.sub(r'^https?:\\/\\/.*[\\r\\n]*', '', word, flags=re.MULTILINE)"
   ]
  },
  {
   "cell_type": "code",
   "execution_count": null,
   "metadata": {},
   "outputs": [],
   "source": [
    "#Replace word with another word (spaCy defines doesn't as two words: does and n't)\n",
    "def replace_word_with(word):\n",
    "    if word == 'n\\'t':\n",
    "        word = word.replace('n\\'t', 'not')\n",
    "    elif word == '\\'ll':\n",
    "        word = word.replace('\\'ll', 'will')\n",
    "    elif word == '||':\n",
    "        word = word.replace('||', 'or')\n",
    "    print('Word after replace with func:', word)\n",
    "    return word"
   ]
  },
  {
   "cell_type": "code",
   "execution_count": null,
   "metadata": {
    "scrolled": true
   },
   "outputs": [],
   "source": [
    "# Load dataset\n",
    "url = \"csv/newFile3.csv\"\n",
    "\n",
    "#define column lables\n",
    "#names = ['comment', 'code', 'non-information']\n",
    "names = ['comment', 'code', 'Expected']\n",
    "\n",
    "#na_filter = false, because pandas read empty string as float (nan)!\n",
    "#skiprows = 1, because the first row contains only the labels\n",
    "dataframe = pd.read_csv(url, names=names, skiprows = 1, na_filter = False)\n",
    "\n",
    "\n",
    "\n",
    "#load EN model to analyse sentences in english language\n",
    "nlp = spacy.load(\"en_core_web_sm\")\n",
    "\n",
    "seps = [\"#\", \".\", '(', ')']\n",
    "\n",
    "#Filter comment AND code\n",
    "for col in ['comment', 'code']:\n",
    "    start_time = time.time()\n",
    "    # Get all values from the column\n",
    "    columns =  dataframe[col].tolist()\n",
    "    #Loop over each column entries\n",
    "    for idx, val in enumerate(columns):\n",
    "        print(idx, val)\n",
    "        print()\n",
    "        doc = nlp(val)\n",
    "        trimedValue = ''\n",
    "\n",
    "        #Loop over each word\n",
    "        for w in doc:\n",
    "            #Remove PUNCT, DET via spaCy\n",
    "            if w.pos_ == 'PUNCT' or w.pos_ == 'DET':\n",
    "                print('Removed word via spaCy:', w.text)\n",
    "                print()\n",
    "                continue\n",
    "            print('Word:', w.text)\n",
    "\n",
    "            #Replace word with\n",
    "            word = replace_word_with(w.text)\n",
    "            #CamelCase remover\n",
    "            word = camel_case_split(word)\n",
    "            #URL remover\n",
    "            word = remove_url_from_comment(word)\n",
    "            #Symbol remover\n",
    "            word = remove_symbol_from_word(word)\n",
    "\n",
    "            print()\n",
    "            trimedValue += ' ' + word\n",
    "\n",
    "        trimedValue = remove_more_than_one_space_in_sentence(trimedValue)\n",
    "        trimedValue = all_to_lower_case(trimedValue)\n",
    "        trimedValue = remove_single_char_words(trimedValue)\n",
    "        print()\n",
    "        print('Finished modified value:', trimedValue)\n",
    "        #print([(w.text, w.pos_) for w in doc])\n",
    "        print()\n",
    "        dataframe.at[idx, col] = trimedValue\n",
    "\n",
    "    elapsed_time = time.time() - start_time\n",
    "    print(elapsed_time)\n",
    "\n",
    "#Save modified comment into file\n",
    "#keep_col = ['comment','code','non-information']\n",
    "keep_col = ['comment','code','Expected']\n",
    "new_f = dataframe[keep_col]\n",
    "new_f.to_csv(\"csv/trimedValues3.csv\", index=False)\n",
    "\n",
    "\n",
    "\n",
    "#Print all rows and not only the first 5 and the last 5\n",
    "#pd.set_option('display.max_rows', None)\n",
    "\n",
    "#other option settings if necessary:\n",
    "#pd.set_option('display.max_columns', None)\n",
    "#pd.set_option('display.width', None)\n",
    "#pd.set_option('display.max_colwidth', -1)\n",
    "\n",
    "# Only print comment and non-information column\n",
    "#print(dataframe[['comment', 'non-information']])\n",
    "#print(dataframe[['comment']])\n",
    "\n",
    "# Print all information from csv file in a DataFrame (table object)\n",
    "#print(dataframe)"
   ]
  },
  {
   "cell_type": "code",
   "execution_count": null,
   "metadata": {},
   "outputs": [],
   "source": []
  }
 ],
 "metadata": {
  "kernelspec": {
   "display_name": "Python 3",
   "language": "python",
   "name": "python3"
  },
  "language_info": {
   "codemirror_mode": {
    "name": "ipython",
    "version": 3
   },
   "file_extension": ".py",
   "mimetype": "text/x-python",
   "name": "python",
   "nbconvert_exporter": "python",
   "pygments_lexer": "ipython3",
   "version": "3.8.2"
  }
 },
 "nbformat": 4,
 "nbformat_minor": 2
}
