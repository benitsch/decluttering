{
 "cells": [
  {
   "cell_type": "code",
   "execution_count": 1,
   "metadata": {},
   "outputs": [],
   "source": [
    "def create_dev_test_train_split_and_vocabulary(root_path, \n",
    "                                               create_vocabulary, \n",
    "                                               train_output, \n",
    "                                               dev_output, \n",
    "                                               test_output):\n",
    "\n",
    "    train_file = ''\n",
    "    dev_file = ''\n",
    "    test_file = ''\n",
    "\n",
    "    word_counts = dict()\n",
    "    \n",
    "    for root, dirnames, filenames in os.walk(root_path):\n",
    "        for filename in fnmatch.filter(filenames, '*.csv'):\n",
    "\n",
    "            path = os.path.join(root, filename)\n",
    "\n",
    "            if filename.endswith(\"test.csv\"):\n",
    "                test_file = path\n",
    "\n",
    "            elif filename.endswith(\"dev.csv\"):\n",
    "                dev_file = path\n",
    "\n",
    "            else:\n",
    "                train_file = path\n",
    "                with open(path, 'r', encoding='utf-8') as text:\n",
    "                    for line in text:\n",
    "                        add_counts(word_counts, line)\n",
    "\n",
    "    if create_vocabulary:\n",
    "        if pretrained_embeddings_path:\n",
    "            vocabulary = []\n",
    "            embeddings = []\n",
    "            with open(pretrained_embeddings_path, 'r', encoding='utf-8') as f:\n",
    "                for line in f:\n",
    "                    line = line.split()\n",
    "                    w = line[0]\n",
    "                    e = [float(x) for x in line[1:]]\n",
    "                    vocabulary.append(w)\n",
    "                    embeddings.append(e)\n",
    "\n",
    "            with open(\"We.pcl\", 'wb') as f:\n",
    "                cPickle.dump(embeddings, f, cPickle.HIGHEST_PROTOCOL)\n",
    "        else:\n",
    "            vocabulary = build_vocabulary(word_counts)\n",
    "        write_vocabulary(vocabulary, WORD_VOCAB_FILE)\n",
    "\n",
    "    write_processed_dataset(train_txt_files, train_output)\n",
    "    write_processed_dataset(dev_txt_files, dev_output)\n",
    "    write_processed_dataset(test_txt_files, test_output)"
   ]
  },
  {
   "cell_type": "code",
   "execution_count": 2,
   "metadata": {},
   "outputs": [],
   "source": [
    "#TODO stopwords\n",
    "STOPWORDS=[\"and\",\"or\",\"i\"]\n",
    "\n",
    "def add_counts(word_counts, line):\n",
    "    for w in line.split():\n",
    "        if w in STOPWORDS:\n",
    "            continue\n",
    "        word_counts[w] = word_counts.get(w, 0) + 1"
   ]
  },
  {
   "cell_type": "code",
   "execution_count": null,
   "metadata": {},
   "outputs": [],
   "source": []
  }
 ],
 "metadata": {
  "kernelspec": {
   "display_name": "Python 3",
   "language": "python",
   "name": "python3"
  },
  "language_info": {
   "codemirror_mode": {
    "name": "ipython",
    "version": 3
   },
   "file_extension": ".py",
   "mimetype": "text/x-python",
   "name": "python",
   "nbconvert_exporter": "python",
   "pygments_lexer": "ipython3",
   "version": "3.8.2"
  }
 },
 "nbformat": 4,
 "nbformat_minor": 4
}
