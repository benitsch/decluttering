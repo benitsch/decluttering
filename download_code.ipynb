{
 "cells": [
  {
   "cell_type": "code",
   "execution_count": null,
   "metadata": {},
   "outputs": [],
   "source": [
    "import urllib.request\n",
    "import pandas as pd\n",
    "import os"
   ]
  },
  {
   "cell_type": "code",
   "execution_count": null,
   "metadata": {},
   "outputs": [],
   "source": [
    "#downloadCode from given ulr and write to outPath\n",
    "def downloadCode(ulr,outPath):\n",
    "    response = urllib.request.urlopen(ulr)  \n",
    "    html = response.read().decode('utf-8')\n",
    "    i = 0\n",
    "    if os.path.isfile(outPath):\n",
    "        print(\"file \",outPath,\" existed\")\n",
    "        return\n",
    "    with open(outPath,\"w\") as outfile:\n",
    "        outfile.write(html)\n",
    "#     print(html)"
   ]
  },
  {
   "cell_type": "code",
   "execution_count": null,
   "metadata": {},
   "outputs": [],
   "source": [
    "# Store code to data dir. \n",
    "dataPath = \"data/\"\n",
    "if not os.path.isdir(dataPath):\n",
    "    print(\"build data dir :\" ,dataPath)\n",
    "    os.mkdir(dataPath)\n",
    "\n",
    "path = \"assets/train_set_0520.csv\"\n",
    "dataframe = pd.read_csv(path, na_filter = False)\n",
    "for name in dataframe[\"path_to_file\"]:\n",
    "    name = name.replace(\"https://github.com/\",\"https://raw.githubusercontent.com/\")\n",
    "    name = name.replace(\"blob/\",\"\",1)\n",
    "    outPath = name.split(\"/\")[-1]\n",
    "    print(dataPath+outPath)\n",
    "    downloadCode(name,dataPath+outPath)"
   ]
  },
  {
   "cell_type": "code",
   "execution_count": null,
   "metadata": {},
   "outputs": [],
   "source": [
    "# count unique files.\n",
    "path = \"assets/train_set_0520.csv\"\n",
    "dataframe = pd.read_csv(path, na_filter = False)\n",
    "li = []\n",
    "for name in dataframe[\"path_to_file\"]:\n",
    "    if name not in li:\n",
    "        li.append(name)\n",
    "print(len(li))"
   ]
  },
  {
   "cell_type": "code",
   "execution_count": null,
   "metadata": {},
   "outputs": [],
   "source": []
  }
 ],
 "metadata": {
  "kernelspec": {
   "display_name": "Python 3",
   "language": "python",
   "name": "python3"
  },
  "language_info": {
   "codemirror_mode": {
    "name": "ipython",
    "version": 3
   },
   "file_extension": ".py",
   "mimetype": "text/x-python",
   "name": "python",
   "nbconvert_exporter": "python",
   "pygments_lexer": "ipython3",
   "version": "3.8.2"
  }
 },
 "nbformat": 4,
 "nbformat_minor": 4
}
