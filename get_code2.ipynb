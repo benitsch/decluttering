{
 "cells": [
  {
   "cell_type": "code",
   "execution_count": 1,
   "metadata": {},
   "outputs": [],
   "source": [
    "import pandas as pd"
   ]
  },
  {
   "cell_type": "code",
   "execution_count": 2,
   "metadata": {},
   "outputs": [],
   "source": [
    "# Load dataset\n",
    "url = \"assets/declutter-gold_DevelopmentSet.csv\""
   ]
  },
  {
   "cell_type": "code",
   "execution_count": 3,
   "metadata": {},
   "outputs": [],
   "source": [
    "#define column lables\n",
    "names = ['id', 'type', 'path_to_file', 'begin_line', 'link_to_comment', 'comment', 'non-information']"
   ]
  },
  {
   "cell_type": "code",
   "execution_count": 4,
   "metadata": {},
   "outputs": [],
   "source": [
    "#na_filter = false, because pandas read empty string as float (nan)!\n",
    "#skiprows = 1, because the first row contains only the labels\n",
    "dataframe = pd.read_csv(url, names=names, skiprows = 1, na_filter = False)"
   ]
  },
  {
   "cell_type": "code",
   "execution_count": 5,
   "metadata": {},
   "outputs": [],
   "source": [
    "def get_java_file_name(v):\n",
    "\tx = v.split('/')\n",
    "\ty = x[-1].split('#')\n",
    "\tjavaFileName = y[0]\n",
    "\treturn javaFileName\n",
    "\n",
    "def get_comment_line(v):\n",
    "\tx = v.split('/')\n",
    "\ty = x[-1].split('#')\n",
    "\tline = y[1][1:]\n",
    "\treturn int(line)\n",
    "\n",
    "def get_code_from_javadoc_comment(lines, commentStartLine):\n",
    "    firstCodeLine = ''\n",
    "    if 0 <= commentStartLine < len(lines):\n",
    "        comment = lines[commentStartLine].strip()\n",
    "        i = 1\n",
    "        if not (comment.startswith('/**') and comment.endswith('*/')):\n",
    "            while comment != '*/':\n",
    "                comment = lines[commentStartLine + i].strip()\n",
    "                i += 1\n",
    "        firstCodeLine = lines[commentStartLine + i].strip()\n",
    "    return firstCodeLine\n",
    "\n",
    "def get_code_from_line_comment(lines, commentStartLine):\n",
    "    firstCodeLine = ''\n",
    "    if 0 <= commentStartLine < len(lines):\n",
    "        comment = lines[commentStartLine].strip()\n",
    "        i = 1\n",
    "        isComment = comment.startswith('//')\n",
    "        if not isComment:\n",
    "            code = comment.split('//')\n",
    "            firstCodeLine = code[0].strip()\n",
    "        else:\n",
    "            while isComment:\n",
    "                if 0 <= commentStartLine + i < len(lines):\n",
    "                    comment = lines[commentStartLine + i].strip()\n",
    "                    isComment = comment.startswith('//')\n",
    "                    if isComment:\n",
    "                        i += 1\n",
    "                else:\n",
    "                    isComment = False\n",
    "            if 0 <= commentStartLine + i < len(lines):\n",
    "                firstCodeLine = lines[commentStartLine + i].strip()\n",
    "            else:\n",
    "                firstCodeLine = ''\n",
    "    return firstCodeLine \n",
    "    \n",
    "def get_code_from_block_comment(lines, commentStartLine):\n",
    "    firstCodeLine = ''\n",
    "    if 0 <= commentStartLine < len(lines):\n",
    "        comment = lines[commentStartLine].strip()\n",
    "        i = 1\n",
    "        startsWithComment = comment.startswith('/*')\n",
    "        if not startsWithComment:\n",
    "            code = comment.split('/*')\n",
    "            firstCodeLine = code[0].strip()\n",
    "        else:\n",
    "            while comment != '*/':\n",
    "                comment = lines[commentStartLine + i].strip()\n",
    "                i += 1\n",
    "            firstCodeLine = lines[commentStartLine + i].strip()\n",
    "    return firstCodeLine\n",
    "\n",
    "## extract One line code after comment\n",
    "## Outfile: Paht to output CSV\n",
    "## Javadir: dir of Java files\n",
    "## csvPath: csv Database from project\n",
    "def extractCode(Outfile,Javadir,csvPath):\n",
    "    dataframe = pd.read_csv(csvPath, na_filter = False)\n",
    "    names = ['id', 'type', 'comment', 'code','non-information']\n",
    "    df = pd.DataFrame()\n",
    "    for i,data in dataframe.iterrows():\n",
    "#         print(i)\n",
    "        link = data[\"link_to_comment\"]\n",
    "        file_type = data[\"type\"]\n",
    "        javaFileName = get_java_file_name(link)\n",
    "        line = get_comment_line(link)\n",
    "\n",
    "        f = open(Javadir+\"/\" + javaFileName, \"r\")\n",
    "        lines = f.readlines()\n",
    "        line = line - 1\n",
    "        code = 'undefined type'\n",
    "        if file_type == 'Javadoc':\n",
    "            code = get_code_from_javadoc_comment(lines, line)\n",
    "        elif file_type == 'Line':\n",
    "            code = get_code_from_line_comment(lines, line)\n",
    "        elif file_type == 'Block':\n",
    "            code = get_code_from_block_comment(lines, line)\n",
    "\n",
    "    #     print(\"Code:\",code)\n",
    "    #     print()\n",
    "        df = df.append(pd.DataFrame([[data[\"ID\"],data[\"type\"],data[\"comment\"],code,data[\"non-information\"]]], columns=names))\n",
    "        f.close()\n",
    "#     print(df)\n",
    "    df.to_csv(Outfile, index=False)"
   ]
  },
  {
   "cell_type": "code",
   "execution_count": null,
   "metadata": {},
   "outputs": [],
   "source": [
    "data = dataframe[['type', 'link_to_comment']]\n",
    "idxx = 0\n",
    "for row in data.itertuples():\n",
    "    print(idxx)\n",
    "    type = row.type\n",
    "    link = row.link_to_comment\n",
    "    \n",
    "    javaFileName = get_java_file_name(link)\n",
    "    line = get_comment_line(link)\n",
    "    \n",
    "    print('type:', type)\n",
    "    print('Java file:', javaFileName)\n",
    "    print('Comment start line:', line)\n",
    "\t\n",
    "    f = open(\"data/\" + javaFileName, \"r\")\n",
    "    lines = f.readlines()\n",
    "    line = line - 1\n",
    "    code = 'undefined type'\n",
    "    if type == 'Javadoc':\n",
    "        code = get_code_from_javadoc_comment(lines, line)\n",
    "    elif type == 'Line':\n",
    "        code = get_code_from_line_comment(lines, line)\n",
    "    elif type == 'Block':\n",
    "        code = get_code_from_block_comment(lines, line)\n",
    "    \n",
    "    print(code)\n",
    "    print()\n",
    "    idxx += 1"
   ]
  },
  {
   "cell_type": "code",
   "execution_count": null,
   "metadata": {},
   "outputs": [],
   "source": [
    "Outfile =\"csv/oneLineCode.csv\"\n",
    "Javadir =\"data/\"\n",
    "csvPath = \"assets/declutter-gold_DevelopmentSet.csv\"\n",
    "extractCode(Outfile,Javadir,csvPath)"
   ]
  },
  {
   "cell_type": "code",
   "execution_count": 8,
   "metadata": {},
   "outputs": [],
   "source": [
    "csvPath = \"csv/oneLineCode.csv\"\n",
    "dataframe = pd.read_csv(csvPath, na_filter = False)\n",
    "keep_col = ['comment','code','non-information']\n",
    "new_f = dataframe[keep_col]\n",
    "new_f.to_csv(\"csv/newFile.csv\", index=False)\n"
   ]
  },
  {
   "cell_type": "code",
   "execution_count": null,
   "metadata": {},
   "outputs": [],
   "source": []
  }
 ],
 "metadata": {
  "kernelspec": {
   "display_name": "Python 3",
   "language": "python",
   "name": "python3"
  },
  "language_info": {
   "codemirror_mode": {
    "name": "ipython",
    "version": 3
   },
   "file_extension": ".py",
   "mimetype": "text/x-python",
   "name": "python",
   "nbconvert_exporter": "python",
   "pygments_lexer": "ipython3",
   "version": "3.8.2"
  }
 },
 "nbformat": 4,
 "nbformat_minor": 4
}
